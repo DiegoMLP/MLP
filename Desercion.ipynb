{
 "cells": [
  {
   "cell_type": "code",
   "execution_count": 981,
   "metadata": {
    "scrolled": true
   },
   "outputs": [
    {
     "name": "stdout",
     "output_type": "stream",
     "text": [
      "Populating the interactive namespace from numpy and matplotlib\n"
     ]
    }
   ],
   "source": [
    "%matplotlib inline\n",
    "%matplotlib notebook\n",
    "%pylab inline\n",
    "import pandas as pd\n",
    "import numpy as np\n",
    "import matplotlib\n",
    "import matplotlib.pyplot as plt\n",
    "from sklearn import metrics\n",
    "from sklearn.metrics import classification_report, confusion_matrix, roc_auc_score, roc_curve, accuracy_score\n",
    "\n",
    "path = ('prueba_3.csv')\n",
    "col_names = ['CARRERA', 'SEXO', 'EDAD', 'ESTADO CIVIL', 'PRIMARIA', 'SECUNDARIA', 'PREPARACION', \n",
    "             'MODALIDAD INGRESO', 'SOSTENIBILIDAD ECONOMICA', 'MODALIDAD INGRESO ECONOMICO', 'TRABAJO ESTUDIANTE', \n",
    "             'TOTAL INGRESO', 'DEPENDENCIA ECONOMICA', 'RIESGO FAMILIAR', 'FAMILIAR ENFERMO', 'ENFERMEDAD ESTUDIANTE'\n",
    "            , 'PROMEDIO', 'CLASIFICACION', 'AMONESTACIONES', 'TERCIO', 'QUINTO', 'DESERTO']\n",
    "pima = pd.read_csv(path, header=None, names=col_names)\n",
    "#pima.head"
   ]
  },
  {
   "cell_type": "code",
   "execution_count": 989,
   "metadata": {},
   "outputs": [],
   "source": [
    "feature_cols = ['CARRERA', 'SEXO', 'EDAD', 'ESTADO CIVIL', 'PRIMARIA', 'SECUNDARIA', 'PREPARACION', \n",
    "             'MODALIDAD INGRESO', 'SOSTENIBILIDAD ECONOMICA', 'MODALIDAD INGRESO ECONOMICO', 'TRABAJO ESTUDIANTE', \n",
    "             'TOTAL INGRESO', 'DEPENDENCIA ECONOMICA', 'RIESGO FAMILIAR', 'FAMILIAR ENFERMO', 'ENFERMEDAD ESTUDIANTE',\n",
    "               'PROMEDIO', 'CLASIFICACION', 'AMONESTACIONES', 'TERCIO', 'QUINTO']\n",
    "X = pima[feature_cols]\n",
    "y = pima.DESERTO"
   ]
  },
  {
   "cell_type": "code",
   "execution_count": 990,
   "metadata": {},
   "outputs": [],
   "source": [
    "from sklearn.model_selection import train_test_split\n",
    "X_train, X_test, y_train, y_test = train_test_split(X, y, test_size=0.2, random_state=4)"
   ]
  },
  {
   "cell_type": "code",
   "execution_count": 991,
   "metadata": {},
   "outputs": [],
   "source": [
    "from sklearn.preprocessing import StandardScaler\n",
    "scaler = StandardScaler()\n",
    "scaler.fit(X_train)\n",
    "\n",
    "X_train = scaler.transform(X_train)\n",
    "X_test = scaler.transform(X_test)"
   ]
  },
  {
   "cell_type": "code",
   "execution_count": 992,
   "metadata": {},
   "outputs": [
    {
     "data": {
      "text/plain": [
       "MLPClassifier(activation='relu', alpha=0.0001, batch_size='auto', beta_1=0.9,\n",
       "       beta_2=0.999, early_stopping=False, epsilon=1e-08,\n",
       "       hidden_layer_sizes=(10, 7), learning_rate='constant',\n",
       "       learning_rate_init=0.001, max_iter=15000, momentum=0.9,\n",
       "       nesterovs_momentum=True, power_t=0.5, random_state=42, shuffle=True,\n",
       "       solver='sgd', tol=0.0001, validation_fraction=0.1, verbose=False,\n",
       "       warm_start=False)"
      ]
     },
     "execution_count": 992,
     "metadata": {},
     "output_type": "execute_result"
    }
   ],
   "source": [
    "from sklearn.neural_network import MLPClassifier\n",
    "nn = MLPClassifier(activation='relu', solver='sgd', hidden_layer_sizes=(10,7), random_state=42, max_iter=15000)\n",
    "nn.fit(X_train, y_train)"
   ]
  },
  {
   "cell_type": "code",
   "execution_count": 993,
   "metadata": {},
   "outputs": [
    {
     "name": "stdout",
     "output_type": "stream",
     "text": [
      "Accuracy 1.0\n",
      "True [1 1 0 1 1 0 1 0 1]\n",
      "Pred [1 1 0 1 1 0 1 0 1]\n",
      "auto\n",
      "[[3 0]\n",
      " [0 6]]\n"
     ]
    }
   ],
   "source": [
    "nn_predictions = nn.predict(X_test)\n",
    "\n",
    "cm0 = confusion_matrix(y_test, nn_predictions)\n",
    "print (\"Accuracy\", metrics.accuracy_score(y_test, nn_predictions))\n",
    "print ('True', y_test.values[0:23])\n",
    "print ('Pred', nn_predictions[0:23])\n",
    "print(nn.batch_size)\n",
    "print(cm0)"
   ]
  },
  {
   "cell_type": "code",
   "execution_count": 994,
   "metadata": {},
   "outputs": [
    {
     "name": "stdout",
     "output_type": "stream",
     "text": [
      "[0 0 0 0 0 0 0 0 0 0 0 0 0 0]\n"
     ]
    }
   ],
   "source": [
    "print(nn.predict([[1,2,30,1,1,1,4,1,2,1,2,3000,2,1,2,2,13.05,1,0,1,1],\n",
    "                  [1,1,40,1,1,2,4,1,5,1,1,2000,5,5,2,2,1.55,3,1,2,2],\n",
    "                   [1,2,17,2,1,1,3,2,3,1,2,650,3,1,2,2,11.8,2,0,1,2],\n",
    "                   [1,2,17,2,1,1,4,1,3,1,2,1000,3,1,2,2,7.7,3,1,2,2],\n",
    "                   [1,2,17,2,1,1,4,1,1,1,2,2700,1,4,2,2,9.45,3,1,2,2],\n",
    "                   [2,1,18,2,2,2,2,1,1,1,2,3800,1,1,2,2,5.1304,3,1,2,2],\n",
    "                   [2,1,18,2,1,1,2,1,2,1,2,1950,1,1,2,2,12.087,2,0,2,2],\n",
    "                   [2,1,37,2,1,1,4,1,5,4,1,600,5,5,2,2,1.0435,3,1,2,2],\n",
    "                   [2,1,22,2,1,2,4,1,4,1,2,1100,4,1,1,2,14.4348,1,0,1,1],\n",
    "                   [3,2,17,2,1,2,3,2,1,1,2,1100,1,1,2,2,2.8333,3,1,2,2],\n",
    "                   [3,2,18,2,1,1,4,2,4,1,2,500,1,1,2,2,14.75,1,0,1,1],\n",
    "                   [3,2,17,2,1,1,4,1,2,1,2,850,2,1,2,2,13.9583,1,0,1,2],\n",
    "                   [3,2,17,2,1,1,3,2,3,1,1,950,3,1,1,2,3.5,3,1,2,2],\n",
    "                   [1,1,21,2,1,1,4,2,3,1,1,800,3,1,1,2,15,3,1,2,2],\n",
    "                  ]))\n",
    "#[0 1 0 0 0 1 0 1 0 1 0 1 1]-> RESULTADOS VERDADEROS"
   ]
  },
  {
   "cell_type": "code",
   "execution_count": 988,
   "metadata": {},
   "outputs": [
    {
     "data": {
      "text/plain": [
       "array([[0.03994681, 0.96005319],\n",
       "       [0.17655883, 0.82344117],\n",
       "       [0.96065515, 0.03934485],\n",
       "       [0.01798269, 0.98201731],\n",
       "       [0.08316621, 0.91683379],\n",
       "       [0.98879947, 0.01120053],\n",
       "       [0.01618835, 0.98381165],\n",
       "       [0.9890681 , 0.0109319 ],\n",
       "       [0.02280191, 0.97719809]])"
      ]
     },
     "execution_count": 988,
     "metadata": {},
     "output_type": "execute_result"
    }
   ],
   "source": [
    "nn.predict_proba(X_test)[0:23]"
   ]
  },
  {
   "cell_type": "code",
   "execution_count": 865,
   "metadata": {},
   "outputs": [],
   "source": [
    "y_pred_prob = nn.predict_proba(X_test)[:,1]"
   ]
  },
  {
   "cell_type": "code",
   "execution_count": 866,
   "metadata": {},
   "outputs": [
    {
     "data": {
      "image/png": "[encoded data removed]",
      "text/plain": [
       "<Figure size 432x288 with 1 Axes>"
      ]
     },
     "metadata": {},
     "output_type": "display_data"
    }
   ],
   "source": [
    "fpr, tpr, threshold = metrics.roc_curve(y_test, y_pred_prob)\n",
    "roc_auc = metrics.auc(fpr, tpr)\n",
    "#acu = metrics.roc_auc_score(y_test, y_pred_prob)\n",
    "plt.title('ROC')\n",
    "plt.plot(fpr, tpr, 'b', label='AUC = %0.2f' % roc_auc)\n",
    "plt.legend(loc='lower right')\n",
    "#plt.show()\n",
    "plt.plot([0,1],[0,1], 'b--')\n",
    "plt.xlim([0,1])\n",
    "plt.ylim([0,1])\n",
    "#plt.title('Roc - Clasificación de Deserción')\n",
    "plt.xlabel('Flase Positive')\n",
    "plt.ylabel('True Positive')\n",
    "plt.grid()"
   ]
  },
  {
   "cell_type": "code",
   "execution_count": 867,
   "metadata": {},
   "outputs": [
    {
     "data": {
      "text/plain": [
       "Text(0,0.5,'Frecuencia')"
      ]
     },
     "execution_count": 867,
     "metadata": {},
     "output_type": "execute_result"
    },
    {
     "data": {
      "image/png": "[encoded data removed]",
      "text/plain": [
       "<Figure size 432x288 with 1 Axes>"
      ]
     },
     "metadata": {},
     "output_type": "display_data"
    }
   ],
   "source": [
    "y_pred_prob2 = nn.predict_proba(X_test)[0:23]\n",
    "plt.hist(y_pred_prob2, bins='auto') \n",
    "# arguments are passed to \n",
    "np.histogram \n",
    "plt.xlim(0,1)\n",
    "plt.title(\"Histogram Predicted Probabilities\")\n",
    "plt.xlabel(\"Predicción de Deserción\")\n",
    "plt.ylabel(\"Frecuencia\")"
   ]
  },
  {
   "cell_type": "code",
   "execution_count": 819,
   "metadata": {},
   "outputs": [
    {
     "name": "stdout",
     "output_type": "stream",
     "text": [
      "True [1 1 0 0 0 0 1 0 0 0 1 1 0 1 0 0 1 0 1 0 1 0 0]\n",
      "Pred [1 1 0 0 0 0 1 0 0 0 1 1 0 1 0 0 1 0 1 0 1 0 0]\n"
     ]
    }
   ],
   "source": [
    "from sklearn.svm import SVC\n",
    "svm_model_linear = SVC(kernel = 'linear', C = 1).fit(X_train, y_train)\n",
    "svm_predictions = svm_model_linear.predict(X_test)\n",
    "\n",
    "cm1 = confusion_matrix(y_test, svm_predictions)\n",
    "print ('True', y_test.values[0:23])\n",
    "print ('Pred', svm_predictions[0:23])"
   ]
  },
  {
   "cell_type": "code",
   "execution_count": 820,
   "metadata": {},
   "outputs": [
    {
     "name": "stdout",
     "output_type": "stream",
     "text": [
      "True [1 1 0 0 0 0 1 0 0 0 1 1 0 1 0 0 1 0 1 0 1 0 0]\n",
      "Pred [1 0 0 0 1 0 1 0 1 0 1 1 0 1 1 0 1 0 1 0 1 0 0]\n"
     ]
    }
   ],
   "source": [
    "from sklearn.neighbors import KNeighborsClassifier\n",
    "knn = KNeighborsClassifier(n_neighbors = 15).fit(X_train, y_train)\n",
    "knn_predictions = knn.predict(X_test) \n",
    "\n",
    "cm2 = confusion_matrix(y_test, knn_predictions)\n",
    "print ('True', y_test.values[0:23])\n",
    "print ('Pred', knn_predictions[0:23])"
   ]
  },
  {
   "cell_type": "code",
   "execution_count": 821,
   "metadata": {},
   "outputs": [
    {
     "name": "stdout",
     "output_type": "stream",
     "text": [
      "True [1 1 0 0 0 0 1 0 0 0 1 1 0 1 0 0 1 0 1 0 1 0 0]\n",
      "Pred [1 0 1 0 0 0 1 0 0 1 1 0 1 1 0 0 1 1 0 0 1 0 0]\n"
     ]
    }
   ],
   "source": [
    "from sklearn.naive_bayes import GaussianNB\n",
    "gnb = GaussianNB().fit(X_train, y_train)\n",
    "gnb_predictions = gnb.predict(X_test)\n",
    "\n",
    "cm3 = confusion_matrix(y_test, gnb_predictions)\n",
    "print ('True', y_test.values[0:23])\n",
    "print ('Pred', gnb_predictions[0:23])"
   ]
  },
  {
   "cell_type": "code",
   "execution_count": 822,
   "metadata": {},
   "outputs": [
    {
     "name": "stdout",
     "output_type": "stream",
     "text": [
      "True [1 1 0 0 0 0 1 0 0 0 1 1 0 1 0 0 1 0 1 0 1 0 0]\n",
      "Pred [1 1 0 0 0 0 1 0 0 0 1 1 0 1 0 0 1 0 1 0 1 0 0]\n"
     ]
    }
   ],
   "source": [
    "from sklearn.linear_model import LogisticRegression\n",
    "lr = LogisticRegression(C=1).fit(X_train, y_train)\n",
    "lr_predictions = lr.predict(X_test)\n",
    "\n",
    "cm4 = confusion_matrix(y_test, lr_predictions)\n",
    "print ('True', y_test.values[0:23])\n",
    "print ('Pred', lr_predictions[0:23])"
   ]
  },
  {
   "cell_type": "code",
   "execution_count": 823,
   "metadata": {},
   "outputs": [
    {
     "name": "stdout",
     "output_type": "stream",
     "text": [
      "True [1 1 0 0 0 0 1 0 0 0 1 1 0 1 0 0 1 0 1 0 1 0 0]\n",
      "Pred [0 1 0 1 0 0 0 0 0 0 0 0 1 1 0 0 0 1 0 1 0 0 1]\n",
      "[[9 5]\n",
      " [7 2]]\n"
     ]
    }
   ],
   "source": [
    "from sklearn.ensemble import RandomForestClassifier\n",
    "from sklearn.datasets import make_classification\n",
    "X_train, y_train = make_classification(n_samples=150, n_features=21, n_informative=2, n_redundant=0,\n",
    "                                      random_state=0, n_classes=2, shuffle=False)\n",
    "rf = RandomForestClassifier(n_estimators=100, random_state=0).fit(X_train, y_train)\n",
    "rf_predictions = rf.predict(X_test)\n",
    "\n",
    "cm5 = confusion_matrix(y_test, rf_predictions)\n",
    "print ('True', y_test.values[0:23])\n",
    "print ('Pred', rf_predictions[0:23])\n",
    "print(cm5)"
   ]
  },
  {
   "cell_type": "code",
   "execution_count": 824,
   "metadata": {},
   "outputs": [
    {
     "name": "stdout",
     "output_type": "stream",
     "text": [
      "True [1 1 0 0 0 0 1 0 0 0 1 1 0 1 0 0 1 0 1 0 1 0 0]\n",
      "Pred [0 1 0 1 0 0 0 0 0 0 0 0 1 1 0 0 0 1 0 1 0 0 1]\n"
     ]
    }
   ],
   "source": [
    "from sklearn.tree import DecisionTreeClassifier\n",
    "arbol = DecisionTreeClassifier(criterion='entropy', max_depth=5).fit(X_train, y_train)\n",
    "arbol_predictions = arbol.predict(X_test)\n",
    "\n",
    "cm6 = confusion_matrix(y_test, arbol_predictions)\n",
    "print ('True', y_test.values[0:23])\n",
    "print ('Pred', arbol_predictions[0:23])"
   ]
  },
  {
   "cell_type": "code",
   "execution_count": 825,
   "metadata": {},
   "outputs": [
    {
     "name": "stdout",
     "output_type": "stream",
     "text": [
      "[[14  0]\n",
      " [ 0  9]]\n",
      "[[14  0]\n",
      " [ 0  9]]\n",
      "[[11  3]\n",
      " [ 1  8]]\n",
      "[[10  4]\n",
      " [ 3  6]]\n",
      "[[14  0]\n",
      " [ 0  9]]\n",
      "[[9 5]\n",
      " [7 2]]\n",
      "[[9 5]\n",
      " [7 2]]\n"
     ]
    }
   ],
   "source": [
    "print(confusion_matrix(y_test,nn_predictions))\n",
    "print(confusion_matrix(y_test,svm_predictions))\n",
    "print(confusion_matrix(y_test,knn_predictions))\n",
    "print(confusion_matrix(y_test,gnb_predictions))\n",
    "print(confusion_matrix(y_test,lr_predictions))\n",
    "print(confusion_matrix(y_test,rf_predictions))\n",
    "print(confusion_matrix(y_test,arbol_predictions))"
   ]
  },
  {
   "cell_type": "code",
   "execution_count": 826,
   "metadata": {},
   "outputs": [
    {
     "name": "stdout",
     "output_type": "stream",
     "text": [
      "             precision    recall  f1-score   support\n",
      "\n",
      "          0       1.00      1.00      1.00        14\n",
      "          1       1.00      1.00      1.00         9\n",
      "\n",
      "avg / total       1.00      1.00      1.00        23\n",
      "\n",
      "             precision    recall  f1-score   support\n",
      "\n",
      "          0       1.00      1.00      1.00        14\n",
      "          1       1.00      1.00      1.00         9\n",
      "\n",
      "avg / total       1.00      1.00      1.00        23\n",
      "\n",
      "             precision    recall  f1-score   support\n",
      "\n",
      "          0       0.92      0.79      0.85        14\n",
      "          1       0.73      0.89      0.80         9\n",
      "\n",
      "avg / total       0.84      0.83      0.83        23\n",
      "\n",
      "             precision    recall  f1-score   support\n",
      "\n",
      "          0       0.77      0.71      0.74        14\n",
      "          1       0.60      0.67      0.63         9\n",
      "\n",
      "avg / total       0.70      0.70      0.70        23\n",
      "\n",
      "             precision    recall  f1-score   support\n",
      "\n",
      "          0       1.00      1.00      1.00        14\n",
      "          1       1.00      1.00      1.00         9\n",
      "\n",
      "avg / total       1.00      1.00      1.00        23\n",
      "\n",
      "             precision    recall  f1-score   support\n",
      "\n",
      "          0       0.56      0.64      0.60        14\n",
      "          1       0.29      0.22      0.25         9\n",
      "\n",
      "avg / total       0.45      0.48      0.46        23\n",
      "\n",
      "             precision    recall  f1-score   support\n",
      "\n",
      "          0       0.56      0.64      0.60        14\n",
      "          1       0.29      0.22      0.25         9\n",
      "\n",
      "avg / total       0.45      0.48      0.46        23\n",
      "\n"
     ]
    }
   ],
   "source": [
    "print(classification_report(y_test,nn_predictions))\n",
    "print(classification_report(y_test,svm_predictions))\n",
    "print(classification_report(y_test,knn_predictions))\n",
    "print(classification_report(y_test,gnb_predictions))\n",
    "print(classification_report(y_test,lr_predictions))\n",
    "print(classification_report(y_test,rf_predictions))\n",
    "print(classification_report(y_test,arbol_predictions))"
   ]
  },
  {
   "cell_type": "code",
   "execution_count": 827,
   "metadata": {},
   "outputs": [
    {
     "name": "stdout",
     "output_type": "stream",
     "text": [
      "[0 0 0 0 0 0 0 0 0 0 0 0 0]\n",
      "[0 0 0 0 0 0 0 0 0 0 0 0 0]\n",
      "[1 1 1 1 1 1 1 1 1 1 1 1 1]\n",
      "[0 0 0 0 0 0 0 0 0 0 0 0 0]\n",
      "[0 0 0 0 0 0 0 0 0 0 0 0 0]\n",
      "[1 1 1 1 1 1 1 1 1 1 1 0 1]\n",
      "[1 1 1 1 1 1 1 1 1 0 0 0 0]\n"
     ]
    }
   ],
   "source": [
    "print(nn.predict([[1,2,30,1,1,1,4,1,2,1,2,3000,2,1,2,2,13.05,1,0,1,1],\n",
    "                  [1,1,40,1,1,2,4,1,5,1,1,2000,5,5,2,2,1.55,3,1,2,2],\n",
    "                   [1,2,17,2,1,1,3,2,3,1,2,650,3,1,2,2,11.8,2,0,1,2],\n",
    "                   [1,2,17,2,1,1,4,1,3,1,2,1000,3,1,2,2,7.7,3,1,2,2],\n",
    "                   [1,2,17,2,1,1,4,1,1,1,2,2700,1,4,2,2,9.45,3,1,2,2],\n",
    "                   [2,1,18,2,2,2,2,1,1,1,2,3800,1,1,2,2,5.1304,3,1,2,2,],\n",
    "                   [2,1,18,2,1,1,2,1,2,1,2,1950,1,1,2,2,12.087,2,0,2,2],\n",
    "                   [2,1,37,2,1,1,4,1,5,4,1,600,5,5,2,2,1.0435,3,1,2,2],\n",
    "                   [2,1,22,2,1,2,4,1,4,1,2,1100,4,1,1,2,14.4348,1,0,1,1],\n",
    "                   [3,2,17,2,1,2,3,2,1,1,2,1100,1,1,2,2,2.8333,3,1,2,2],\n",
    "                   [3,2,18,2,1,1,4,2,4,1,2,500,1,1,2,2,14.75,1,0,1,1],\n",
    "                   [3,2,17,2,1,1,4,1,2,1,2,850,2,1,2,2,13.9583,1,0,1,2],\n",
    "                   [3,2,17,2,1,1,3,2,3,1,1,950,3,1,1,2,3.5,3,1,2,2],\n",
    "                  ]))\n",
    "#[0 1 0 0 0 1 0 1 0 1 0 1 1]-> RESULTADOS VERDADEROS\n",
    "\n",
    "print(svm_model_linear.predict([[1,2,30,1,1,1,4,1,2,1,2,3000,2,1,2,2,13.05,1,0,1,1],\n",
    "                  [1,1,40,1,1,2,4,1,5,1,1,2000,5,5,2,2,1.55,3,1,2,2],\n",
    "                   [1,2,17,2,1,1,3,2,3,1,2,650,3,1,2,2,11.8,2,0,1,2],\n",
    "                   [1,2,17,2,1,1,4,1,3,1,2,1000,3,1,2,2,7.7,3,1,2,2],\n",
    "                   [1,2,17,2,1,1,4,1,1,1,2,2700,1,4,2,2,9.45,3,1,2,2],\n",
    "                   [2,1,18,2,2,2,2,1,1,1,2,3800,1,1,2,2,5.1304,3,1,2,2,],\n",
    "                   [2,1,18,2,1,1,2,1,2,1,2,1950,1,1,2,2,12.087,2,0,2,2],\n",
    "                   [2,1,37,2,1,1,4,1,5,4,1,600,5,5,2,2,1.0435,3,1,2,2],\n",
    "                   [2,1,22,2,1,2,4,1,4,1,2,1100,4,1,1,2,14.4348,1,0,1,1],\n",
    "                   [3,2,17,2,1,2,3,2,1,1,2,1100,1,1,2,2,2.8333,3,1,2,2],\n",
    "                   [3,2,18,2,1,1,4,2,4,1,2,500,1,1,2,2,14.75,1,0,1,1],\n",
    "                   [3,2,17,2,1,1,4,1,2,1,2,850,2,1,2,2,13.9583,1,0,1,2],\n",
    "                   [3,2,17,2,1,1,3,2,3,1,1,950,3,1,1,2,3.5,3,1,2,2],\n",
    "                  ]))\n",
    "print(knn.predict([[1,2,30,1,1,1,4,1,2,1,2,3000,2,1,2,2,13.05,1,0,1,1],\n",
    "                  [1,1,40,1,1,2,4,1,5,1,1,2000,5,5,2,2,1.55,3,1,2,2],\n",
    "                   [1,2,17,2,1,1,3,2,3,1,2,650,3,1,2,2,11.8,2,0,1,2],\n",
    "                   [1,2,17,2,1,1,4,1,3,1,2,1000,3,1,2,2,7.7,3,1,2,2],\n",
    "                   [1,2,17,2,1,1,4,1,1,1,2,2700,1,4,2,2,9.45,3,1,2,2],\n",
    "                   [2,1,18,2,2,2,2,1,1,1,2,3800,1,1,2,2,5.1304,3,1,2,2,],\n",
    "                   [2,1,18,2,1,1,2,1,2,1,2,1950,1,1,2,2,12.087,2,0,2,2],\n",
    "                   [2,1,37,2,1,1,4,1,5,4,1,600,5,5,2,2,1.0435,3,1,2,2],\n",
    "                   [2,1,22,2,1,2,4,1,4,1,2,1100,4,1,1,2,14.4348,1,0,1,1],\n",
    "                   [3,2,17,2,1,2,3,2,1,1,2,1100,1,1,2,2,2.8333,3,1,2,2],\n",
    "                   [3,2,18,2,1,1,4,2,4,1,2,500,1,1,2,2,14.75,1,0,1,1],\n",
    "                   [3,2,17,2,1,1,4,1,2,1,2,850,2,1,2,2,13.9583,1,0,1,2],\n",
    "                   [3,2,17,2,1,1,3,2,3,1,1,950,3,1,1,2,3.5,3,1,2,2],\n",
    "                  ]))\n",
    "print(gnb.predict([[1,2,30,1,1,1,4,1,2,1,2,3000,2,1,2,2,13.05,1,0,1,1],\n",
    "                  [1,1,40,1,1,2,4,1,5,1,1,2000,5,5,2,2,1.55,3,1,2,2],\n",
    "                   [1,2,17,2,1,1,3,2,3,1,2,650,3,1,2,2,11.8,2,0,1,2],\n",
    "                   [1,2,17,2,1,1,4,1,3,1,2,1000,3,1,2,2,7.7,3,1,2,2],\n",
    "                   [1,2,17,2,1,1,4,1,1,1,2,2700,1,4,2,2,9.45,3,1,2,2],\n",
    "                   [2,1,18,2,2,2,2,1,1,1,2,3800,1,1,2,2,5.1304,3,1,2,2,],\n",
    "                   [2,1,18,2,1,1,2,1,2,1,2,1950,1,1,2,2,12.087,2,0,2,2],\n",
    "                   [2,1,37,2,1,1,4,1,5,4,1,600,5,5,2,2,1.0435,3,1,2,2],\n",
    "                   [2,1,22,2,1,2,4,1,4,1,2,1100,4,1,1,2,14.4348,1,0,1,1],\n",
    "                   [3,2,17,2,1,2,3,2,1,1,2,1100,1,1,2,2,2.8333,3,1,2,2],\n",
    "                   [3,2,18,2,1,1,4,2,4,1,2,500,1,1,2,2,14.75,1,0,1,1],\n",
    "                   [3,2,17,2,1,1,4,1,2,1,2,850,2,1,2,2,13.9583,1,0,1,2],\n",
    "                   [3,2,17,2,1,1,3,2,3,1,1,950,3,1,1,2,3.5,3,1,2,2],\n",
    "                  ]))\n",
    "print(lr.predict([[1,2,30,1,1,1,4,1,2,1,2,3000,2,1,2,2,13.05,1,0,1,1],\n",
    "                  [1,1,40,1,1,2,4,1,5,1,1,2000,5,5,2,2,1.55,3,1,2,2],\n",
    "                   [1,2,17,2,1,1,3,2,3,1,2,650,3,1,2,2,11.8,2,0,1,2],\n",
    "                   [1,2,17,2,1,1,4,1,3,1,2,1000,3,1,2,2,7.7,3,1,2,2],\n",
    "                   [1,2,17,2,1,1,4,1,1,1,2,2700,1,4,2,2,9.45,3,1,2,2],\n",
    "                   [2,1,18,2,2,2,2,1,1,1,2,3800,1,1,2,2,5.1304,3,1,2,2,],\n",
    "                   [2,1,18,2,1,1,2,1,2,1,2,1950,1,1,2,2,12.087,2,0,2,2],\n",
    "                   [2,1,37,2,1,1,4,1,5,4,1,600,5,5,2,2,1.0435,3,1,2,2],\n",
    "                   [2,1,22,2,1,2,4,1,4,1,2,1100,4,1,1,2,14.4348,1,0,1,1],\n",
    "                   [3,2,17,2,1,2,3,2,1,1,2,1100,1,1,2,2,2.8333,3,1,2,2],\n",
    "                   [3,2,18,2,1,1,4,2,4,1,2,500,1,1,2,2,14.75,1,0,1,1],\n",
    "                   [3,2,17,2,1,1,4,1,2,1,2,850,2,1,2,2,13.9583,1,0,1,2],\n",
    "                   [3,2,17,2,1,1,3,2,3,1,1,950,3,1,1,2,3.5,3,1,2,2],\n",
    "                  ]))\n",
    "print(rf.predict([[1,2,30,1,1,1,4,1,2,1,2,3000,2,1,2,2,13.05,1,0,1,1],\n",
    "                  [1,1,40,1,1,2,4,1,5,1,1,2000,5,5,2,2,1.55,3,1,2,2],\n",
    "                   [1,2,17,2,1,1,3,2,3,1,2,650,3,1,2,2,11.8,2,0,1,2],\n",
    "                   [1,2,17,2,1,1,4,1,3,1,2,1000,3,1,2,2,7.7,3,1,2,2],\n",
    "                   [1,2,17,2,1,1,4,1,1,1,2,2700,1,4,2,2,9.45,3,1,2,2],\n",
    "                   [2,1,18,2,2,2,2,1,1,1,2,3800,1,1,2,2,5.1304,3,1,2,2,],\n",
    "                   [2,1,18,2,1,1,2,1,2,1,2,1950,1,1,2,2,12.087,2,0,2,2],\n",
    "                   [2,1,37,2,1,1,4,1,5,4,1,600,5,5,2,2,1.0435,3,1,2,2],\n",
    "                   [2,1,22,2,1,2,4,1,4,1,2,1100,4,1,1,2,14.4348,1,0,1,1],\n",
    "                   [3,2,17,2,1,2,3,2,1,1,2,1100,1,1,2,2,2.8333,3,1,2,2],\n",
    "                   [3,2,18,2,1,1,4,2,4,1,2,500,1,1,2,2,14.75,1,0,1,1],\n",
    "                   [3,2,17,2,1,1,4,1,2,1,2,850,2,1,2,2,13.9583,1,0,1,2],\n",
    "                   [3,2,17,2,1,1,3,2,3,1,1,950,3,1,1,2,3.5,3,1,2,2],\n",
    "                  ]))\n",
    "print(arbol.predict([[1,2,30,1,1,1,4,1,2,1,2,3000,2,1,2,2,13.05,1,0,1,1],\n",
    "                  [1,1,40,1,1,2,4,1,5,1,1,2000,5,5,2,2,1.55,3,1,2,2],\n",
    "                   [1,2,17,2,1,1,3,2,3,1,2,650,3,1,2,2,11.8,2,0,1,2],\n",
    "                   [1,2,17,2,1,1,4,1,3,1,2,1000,3,1,2,2,7.7,3,1,2,2],\n",
    "                   [1,2,17,2,1,1,4,1,1,1,2,2700,1,4,2,2,9.45,3,1,2,2],\n",
    "                   [2,1,18,2,2,2,2,1,1,1,2,3800,1,1,2,2,5.1304,3,1,2,2,],\n",
    "                   [2,1,18,2,1,1,2,1,2,1,2,1950,1,1,2,2,12.087,2,0,2,2],\n",
    "                   [2,1,37,2,1,1,4,1,5,4,1,600,5,5,2,2,1.0435,3,1,2,2],\n",
    "                   [2,1,22,2,1,2,4,1,4,1,2,1100,4,1,1,2,14.4348,1,0,1,1],\n",
    "                   [3,2,17,2,1,2,3,2,1,1,2,1100,1,1,2,2,2.8333,3,1,2,2],\n",
    "                   [3,2,18,2,1,1,4,2,4,1,2,500,1,1,2,2,14.75,1,0,1,1],\n",
    "                   [3,2,17,2,1,1,4,1,2,1,2,850,2,1,2,2,13.9583,1,0,1,2],\n",
    "                   [3,2,17,2,1,1,3,2,3,1,1,950,3,1,1,2,3.5,3,1,2,2],\n",
    "                  ]))\n",
    "\n",
    "\n",
    "#[0 1 0 0 0 1 0 1 0 1 0 1 1]-> RESULTADOS VERDADEROS\n",
    "\n",
    "#RESULTADOS DE MODELOS\n",
    "#[1 1 0 0 1 1 1 0 0 1 0 0 1]->ANN\n",
    "#[0 0 0 0 0 0 0 0 0 0 0 0 0]->SVM\n",
    "#[1 1 1 1 1 1 1 1 1 1 1 1 1]->KNN\n",
    "#[0 0 0 0 0 0 0 0 0 0 0 0 0]->GNB\n",
    "#[0 0 0 0 0 0 0 0 0 0 0 0 0]->LR\n",
    "#[1 1 1 1 1 1 1 1 1 1 1 0 1]->RF\n",
    "#[1 1 1 1 1 1 1 1 1 0 0 0 0]->ARBOL"
   ]
  },
  {
   "cell_type": "code",
   "execution_count": 828,
   "metadata": {},
   "outputs": [
    {
     "data": {
      "text/plain": [
       "array([[0.71934699, 0.28065301],\n",
       "       [0.71934699, 0.28065301],\n",
       "       [0.71934699, 0.28065301],\n",
       "       [0.71934699, 0.28065301],\n",
       "       [0.71934699, 0.28065301],\n",
       "       [0.71934699, 0.28065301],\n",
       "       [0.71934699, 0.28065301],\n",
       "       [0.71934699, 0.28065301],\n",
       "       [0.71934699, 0.28065301],\n",
       "       [0.71934699, 0.28065301],\n",
       "       [0.71934699, 0.28065301],\n",
       "       [0.71934699, 0.28065301],\n",
       "       [0.71934699, 0.28065301]])"
      ]
     },
     "execution_count": 828,
     "metadata": {},
     "output_type": "execute_result"
    }
   ],
   "source": [
    "nn.predict_proba([[1,2,30,1,1,1,4,1,2,1,2,3000,2,1,2,2,13.05,1,0,1,1],\n",
    "                  [1,1,40,1,1,2,4,1,5,1,1,2000,5,5,2,2,1.55,3,1,2,2],\n",
    "                   [1,2,17,2,1,1,3,2,3,1,2,650,3,1,2,2,11.8,2,0,1,2],\n",
    "                   [1,2,17,2,1,1,4,1,3,1,2,1000,3,1,2,2,7.7,3,1,2,2],\n",
    "                   [1,2,17,2,1,1,4,1,1,1,2,2700,1,4,2,2,9.45,3,1,2,2],\n",
    "                   [2,1,18,2,2,2,2,1,1,1,2,3800,1,1,2,2,5.1304,3,1,2,2,],\n",
    "                   [2,1,18,2,1,1,2,1,2,1,2,1950,1,1,2,2,12.087,2,0,2,2],\n",
    "                   [2,1,37,2,1,1,4,1,5,4,1,600,5,5,2,2,1.0435,3,1,2,2],\n",
    "                   [2,1,22,2,1,2,4,1,4,1,2,1100,4,1,1,2,14.4348,1,0,1,1],\n",
    "                   [3,2,17,2,1,2,3,2,1,1,2,1100,1,1,2,2,2.8333,3,1,2,2],\n",
    "                   [3,2,18,2,1,1,4,2,4,1,2,500,1,1,2,2,14.75,1,0,1,1],\n",
    "                   [3,2,17,2,1,1,4,1,2,1,2,850,2,1,2,2,13.9583,1,0,1,2],\n",
    "                   [3,2,17,2,1,1,3,2,3,1,1,950,3,1,1,2,3.5,3,1,2,2],\n",
    "                  ])\n",
    "#[0 1 0 0 0 1 0 1 0 1 0 1 1]-> RESULTADOS VERDADEROS\n",
    "\n",
    "#RESULTADOS DE MODELOS\n",
    "#[1 1 0 0 1 1 1 0 0 1 0 0 1]->ANN\n"
   ]
  },
  {
   "cell_type": "code",
   "execution_count": null,
   "metadata": {},
   "outputs": [],
   "source": []
  },
  {
   "cell_type": "code",
   "execution_count": null,
   "metadata": {},
   "outputs": [],
   "source": []
  },
  {
   "cell_type": "code",
   "execution_count": null,
   "metadata": {},
   "outputs": [],
   "source": []
  }
 ],
 "metadata": {
  "kernelspec": {
   "display_name": "Python 3",
   "language": "python",
   "name": "python3"
  },
  "language_info": {
   "codemirror_mode": {
    "name": "ipython",
    "version": 3
   },
   "file_extension": ".py",
   "mimetype": "text/x-python",
   "name": "python",
   "nbconvert_exporter": "python",
   "pygments_lexer": "ipython3",
   "version": "3.7.0"
  }
 },
 "nbformat": 4,
 "nbformat_minor": 2
}
