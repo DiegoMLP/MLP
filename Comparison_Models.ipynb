{
 "cells": [
  {
   "cell_type": "code",
   "execution_count": 1,
   "metadata": {},
   "outputs": [],
   "source": [
    "import pandas as pd\n",
    "import numpy as np\n",
    "\n",
    "from sklearn.metrics import classification_report, confusion_matrix\n",
    "# read input data# read i \n",
    "Path =  pd.read_csv('Data_Balanced.csv', delimiter=',')\n",
    "\n",
    "X  = Path.iloc[:,0:11]\n",
    "y = Path.iloc[:,-1]\n",
    "#pima.head()"
   ]
  },
  {
   "cell_type": "code",
   "execution_count": 2,
   "metadata": {},
   "outputs": [],
   "source": [
    "from sklearn.model_selection import train_test_split\n",
    "X_train, X_test, y_train, y_test = train_test_split(X, y, test_size=0.25, random_state=4)"
   ]
  },
  {
   "cell_type": "code",
   "execution_count": 3,
   "metadata": {},
   "outputs": [],
   "source": [
    "from sklearn.preprocessing import StandardScaler\n",
    "scaler = StandardScaler()\n",
    "scaler.fit(X_train)\n",
    "\n",
    "X_train = scaler.transform(X_train)\n",
    "X_test = scaler.transform(X_test)"
   ]
  },
  {
   "cell_type": "code",
   "execution_count": 4,
   "metadata": {},
   "outputs": [
    {
     "name": "stderr",
     "output_type": "stream",
     "text": [
      "C:\\Users\\Usuario\\Anaconda3\\envs\\proyecto\\lib\\site-packages\\sklearn\\neural_network\\multilayer_perceptron.py:564: ConvergenceWarning: Stochastic Optimizer: Maximum iterations (1000) reached and the optimization hasn't converged yet.\n",
      "  % self.max_iter, ConvergenceWarning)\n"
     ]
    },
    {
     "data": {
      "text/plain": [
       "MLPClassifier(activation='tanh', alpha=0.0001, batch_size='auto', beta_1=0.9,\n",
       "       beta_2=0.999, early_stopping=False, epsilon=1e-08,\n",
       "       hidden_layer_sizes=(10, 7), learning_rate='constant',\n",
       "       learning_rate_init=0.001, max_iter=1000, momentum=0.9,\n",
       "       nesterovs_momentum=True, power_t=0.5, random_state=42, shuffle=True,\n",
       "       solver='sgd', tol=0.0001, validation_fraction=0.1, verbose=False,\n",
       "       warm_start=False)"
      ]
     },
     "execution_count": 4,
     "metadata": {},
     "output_type": "execute_result"
    }
   ],
   "source": [
    "from sklearn.neural_network import MLPClassifier\n",
    "nn = MLPClassifier(activation='tanh', solver='sgd', hidden_layer_sizes=(10,7), random_state=42, max_iter=1000)\n",
    "nn.fit(X_train, y_train)"
   ]
  },
  {
   "cell_type": "code",
   "execution_count": 5,
   "metadata": {},
   "outputs": [
    {
     "name": "stdout",
     "output_type": "stream",
     "text": [
      "True [0 1 1 0 0 0 0 0 1 1 1 0 0 0 1 0 1 0]\n",
      "Pred [0 1 1 0 0 0 0 0 1 1 1 0 0 0 1 0 1 0]\n"
     ]
    }
   ],
   "source": [
    "nn_predictions = nn.predict(X_test)\n",
    "\n",
    "cm0 = confusion_matrix(y_test, nn_predictions)\n",
    "print ('True', y_test.values[0:23])\n",
    "print ('Pred', nn_predictions[0:23])"
   ]
  },
  {
   "cell_type": "code",
   "execution_count": 6,
   "metadata": {},
   "outputs": [
    {
     "name": "stdout",
     "output_type": "stream",
     "text": [
      "True [0 1 1 0 0 0 0 0 1 1 1 0 0 0 1 0 1 0]\n",
      "Pred [0 1 1 0 0 0 0 0 1 1 1 0 0 0 1 0 1 0]\n"
     ]
    }
   ],
   "source": [
    "from sklearn.svm import SVC\n",
    "svm_model_linear = SVC(kernel = 'linear', C = 1).fit(X_train, y_train)\n",
    "svm_predictions = svm_model_linear.predict(X_test)\n",
    "\n",
    "cm1 = confusion_matrix(y_test, svm_predictions)\n",
    "print ('True', y_test.values[0:23])\n",
    "print ('Pred', svm_predictions[0:23])"
   ]
  },
  {
   "cell_type": "code",
   "execution_count": 7,
   "metadata": {},
   "outputs": [
    {
     "name": "stdout",
     "output_type": "stream",
     "text": [
      "True [0 1 1 0 0 0 0 0 1 1 1 0 0 0 1 0 1 0]\n",
      "Pred [0 1 1 0 0 0 1 0 1 0 1 0 0 0 1 1 1 0]\n"
     ]
    }
   ],
   "source": [
    "from sklearn.neighbors import KNeighborsClassifier\n",
    "knn = KNeighborsClassifier(n_neighbors = 15).fit(X_train, y_train)\n",
    "knn_predictions = knn.predict(X_test) \n",
    "\n",
    "cm2 = confusion_matrix(y_test, knn_predictions)\n",
    "print ('True', y_test.values[0:23])\n",
    "print ('Pred', knn_predictions[0:23])"
   ]
  },
  {
   "cell_type": "code",
   "execution_count": 8,
   "metadata": {},
   "outputs": [
    {
     "name": "stdout",
     "output_type": "stream",
     "text": [
      "True [0 1 1 0 0 0 0 0 1 1 1 0 0 0 1 0 1 0]\n",
      "Pred [0 1 1 0 0 0 0 0 1 0 1 0 0 0 1 1 1 0]\n"
     ]
    }
   ],
   "source": [
    "from sklearn.naive_bayes import GaussianNB\n",
    "gnb = GaussianNB().fit(X_train, y_train)\n",
    "gnb_predictions = gnb.predict(X_test)\n",
    "\n",
    "cm3 = confusion_matrix(y_test, gnb_predictions)\n",
    "print ('True', y_test.values[0:23])\n",
    "print ('Pred', gnb_predictions[0:23])"
   ]
  },
  {
   "cell_type": "code",
   "execution_count": 9,
   "metadata": {},
   "outputs": [
    {
     "name": "stdout",
     "output_type": "stream",
     "text": [
      "True [0 1 1 0 0 0 0 0 1 1 1 0 0 0 1 0 1 0]\n",
      "Pred [0 1 1 0 0 0 0 0 1 1 1 0 0 0 1 0 1 0]\n"
     ]
    }
   ],
   "source": [
    "from sklearn.linear_model import LogisticRegression\n",
    "lr = LogisticRegression(C=1).fit(X_train, y_train)\n",
    "lr_predictions = lr.predict(X_test)\n",
    "\n",
    "cm4 = confusion_matrix(y_test, lr_predictions)\n",
    "print ('True', y_test.values[0:23])\n",
    "print ('Pred', lr_predictions[0:23])"
   ]
  },
  {
   "cell_type": "code",
   "execution_count": 10,
   "metadata": {},
   "outputs": [
    {
     "name": "stderr",
     "output_type": "stream",
     "text": [
      "C:\\Users\\Usuario\\Anaconda3\\envs\\proyecto\\lib\\site-packages\\sklearn\\ensemble\\weight_boosting.py:29: DeprecationWarning: numpy.core.umath_tests is an internal NumPy module and should not be imported. It will be removed in a future NumPy release.\n",
      "  from numpy.core.umath_tests import inner1d\n"
     ]
    },
    {
     "name": "stdout",
     "output_type": "stream",
     "text": [
      "True [0 1 1 0 0 0 0 0 1 1 1 0 0 0 1 0 1 0]\n",
      "Pred [1 1 1 1 0 0 0 1 1 1 1 0 0 1 1 0 0 1]\n",
      "[[6 5]\n",
      " [1 6]]\n"
     ]
    }
   ],
   "source": [
    "from sklearn.ensemble import RandomForestClassifier\n",
    "from sklearn.datasets import make_classification\n",
    "X_train, y_train = make_classification(n_samples=150, n_features=11, n_informative=2, n_redundant=0,\n",
    "                                      random_state=0, n_classes=2, shuffle=False)\n",
    "rf = RandomForestClassifier(n_estimators=100, random_state=0).fit(X_train, y_train)\n",
    "rf_predictions = rf.predict(X_test)\n",
    "\n",
    "cm5 = confusion_matrix(y_test, rf_predictions)\n",
    "print ('True', y_test.values[0:23])\n",
    "print ('Pred', rf_predictions[0:23])\n",
    "print(cm5)"
   ]
  },
  {
   "cell_type": "code",
   "execution_count": 11,
   "metadata": {},
   "outputs": [
    {
     "name": "stdout",
     "output_type": "stream",
     "text": [
      "True [0 1 1 0 0 0 0 0 1 1 1 0 0 0 1 0 1 0]\n",
      "Pred [1 1 1 1 0 0 0 1 1 1 1 0 0 1 1 0 0 1]\n"
     ]
    }
   ],
   "source": [
    "from sklearn.tree import DecisionTreeClassifier\n",
    "arbol = DecisionTreeClassifier(criterion='entropy', max_depth=5).fit(X_train, y_train)\n",
    "arbol_predictions = arbol.predict(X_test)\n",
    "\n",
    "cm6 = confusion_matrix(y_test, arbol_predictions)\n",
    "print ('True', y_test.values[0:23])\n",
    "print ('Pred', arbol_predictions[0:23])"
   ]
  },
  {
   "cell_type": "code",
   "execution_count": 12,
   "metadata": {},
   "outputs": [
    {
     "name": "stdout",
     "output_type": "stream",
     "text": [
      "[[11  0]\n",
      " [ 0  7]]\n",
      "[[11  0]\n",
      " [ 0  7]]\n",
      "[[9 2]\n",
      " [1 6]]\n",
      "[[10  1]\n",
      " [ 1  6]]\n",
      "[[11  0]\n",
      " [ 0  7]]\n",
      "[[6 5]\n",
      " [1 6]]\n",
      "[[6 5]\n",
      " [1 6]]\n"
     ]
    }
   ],
   "source": [
    "print(confusion_matrix(y_test,nn_predictions))\n",
    "print(confusion_matrix(y_test,svm_predictions))\n",
    "print(confusion_matrix(y_test,knn_predictions))\n",
    "print(confusion_matrix(y_test,gnb_predictions))\n",
    "print(confusion_matrix(y_test,lr_predictions))\n",
    "print(confusion_matrix(y_test,rf_predictions))\n",
    "print(confusion_matrix(y_test,arbol_predictions))"
   ]
  },
  {
   "cell_type": "code",
   "execution_count": 13,
   "metadata": {},
   "outputs": [
    {
     "name": "stdout",
     "output_type": "stream",
     "text": [
      "             precision    recall  f1-score   support\n",
      "\n",
      "          0       1.00      1.00      1.00        11\n",
      "          1       1.00      1.00      1.00         7\n",
      "\n",
      "avg / total       1.00      1.00      1.00        18\n",
      "\n",
      "             precision    recall  f1-score   support\n",
      "\n",
      "          0       1.00      1.00      1.00        11\n",
      "          1       1.00      1.00      1.00         7\n",
      "\n",
      "avg / total       1.00      1.00      1.00        18\n",
      "\n",
      "             precision    recall  f1-score   support\n",
      "\n",
      "          0       0.90      0.82      0.86        11\n",
      "          1       0.75      0.86      0.80         7\n",
      "\n",
      "avg / total       0.84      0.83      0.83        18\n",
      "\n",
      "             precision    recall  f1-score   support\n",
      "\n",
      "          0       0.91      0.91      0.91        11\n",
      "          1       0.86      0.86      0.86         7\n",
      "\n",
      "avg / total       0.89      0.89      0.89        18\n",
      "\n",
      "             precision    recall  f1-score   support\n",
      "\n",
      "          0       1.00      1.00      1.00        11\n",
      "          1       1.00      1.00      1.00         7\n",
      "\n",
      "avg / total       1.00      1.00      1.00        18\n",
      "\n",
      "             precision    recall  f1-score   support\n",
      "\n",
      "          0       0.86      0.55      0.67        11\n",
      "          1       0.55      0.86      0.67         7\n",
      "\n",
      "avg / total       0.74      0.67      0.67        18\n",
      "\n",
      "             precision    recall  f1-score   support\n",
      "\n",
      "          0       0.86      0.55      0.67        11\n",
      "          1       0.55      0.86      0.67         7\n",
      "\n",
      "avg / total       0.74      0.67      0.67        18\n",
      "\n"
     ]
    }
   ],
   "source": [
    "print(classification_report(y_test,nn_predictions))\n",
    "print(classification_report(y_test,svm_predictions))\n",
    "print(classification_report(y_test,knn_predictions))\n",
    "print(classification_report(y_test,gnb_predictions))\n",
    "print(classification_report(y_test,lr_predictions))\n",
    "print(classification_report(y_test,rf_predictions))\n",
    "print(classification_report(y_test,arbol_predictions))"
   ]
  },
  {
   "cell_type": "code",
   "execution_count": 14,
   "metadata": {},
   "outputs": [
    {
     "name": "stdout",
     "output_type": "stream",
     "text": [
      "[0 1 1 0 0 0 0 0 1 1 1 0 0 0 1 0 1 0]\n",
      "[0 1 1 0 0 0 0 0 1 1 1 0 0 0 1 0 1 0]\n",
      "[0 1 1 0 0 0 1 0 1 0 1 0 0 0 1 1 1 0]\n",
      "[0 1 1 0 0 0 0 0 1 0 1 0 0 0 1 1 1 0]\n",
      "[0 1 1 0 0 0 0 0 1 1 1 0 0 0 1 0 1 0]\n",
      "[1 1 1 1 0 0 0 1 1 1 1 0 0 1 1 0 0 1]\n",
      "[1 1 1 1 0 0 0 1 1 1 1 0 0 1 1 0 0 1]\n"
     ]
    }
   ],
   "source": [
    "data = X_test\n",
    "\n",
    "print(nn.predict(data))\n",
    "print(svm_model_linear.predict(data))\n",
    "print(knn.predict(data))\n",
    "print(gnb.predict(data))\n",
    "print(lr.predict(data))\n",
    "print(rf.predict(data))\n",
    "print(arbol.predict(data))\n"
   ]
  },
  {
   "cell_type": "code",
   "execution_count": 16,
   "metadata": {},
   "outputs": [
    {
     "data": {
      "image/png": "[encoded data removed]",
      "text/plain": [
       "<Figure size 432x288 with 1 Axes>"
      ]
     },
     "metadata": {},
     "output_type": "display_data"
    }
   ],
   "source": [
    "from sklearn.metrics import roc_curve, auc\n",
    "y_test\n",
    "#false_positive_rate, true_positive_rate, thresholds = roc_curve(actual, predictions)\n",
    "nn_pred = nn.predict(data)\n",
    "#print(y_test.values)\n",
    "#print(nn_pred)\n",
    "\n",
    "plt.title('Receiver Operating Characteristic')\n",
    "\n",
    "false_positive_rate, true_positive_rate, thresholds = roc_curve(y_test.values,nn_pred)\n",
    "roc_auc1 = auc(false_positive_rate, true_positive_rate)\n",
    "plt.plot(false_positive_rate, true_positive_rate, label='NN = %0.2f'% roc_auc1)\n",
    "\n",
    "false_positive_rate, true_positive_rate, thresholds = roc_curve(y_test.values,svm_model_linear.predict(data))\n",
    "roc_auc2 = auc(false_positive_rate, true_positive_rate)\n",
    "plt.plot(false_positive_rate, true_positive_rate, label='SVM = %0.2f'% roc_auc2)\n",
    "\n",
    "false_positive_rate, true_positive_rate, thresholds = roc_curve(y_test.values,knn.predict(data))\n",
    "roc_auc3 = auc(false_positive_rate, true_positive_rate)\n",
    "plt.plot(false_positive_rate, true_positive_rate, label='KNN = %0.2f'% roc_auc3)\n",
    "\n",
    "false_positive_rate, true_positive_rate, thresholds = roc_curve(y_test.values,gnb.predict(data))\n",
    "roc_auc4 = auc(false_positive_rate, true_positive_rate)\n",
    "plt.plot(false_positive_rate, true_positive_rate, label='GNB = %0.2f'% roc_auc4)\n",
    "\n",
    "false_positive_rate, true_positive_rate, thresholds = roc_curve(y_test.values,lr.predict(data))\n",
    "roc_auc5 = auc(false_positive_rate, true_positive_rate)\n",
    "plt.plot(false_positive_rate, true_positive_rate, label='LR = %0.2f'% roc_auc5)\n",
    "\n",
    "false_positive_rate, true_positive_rate, thresholds = roc_curve(y_test.values,rf.predict(data))\n",
    "roc_auc6 = auc(false_positive_rate, true_positive_rate)\n",
    "plt.plot(false_positive_rate, true_positive_rate, label='RF = %0.2f'% roc_auc6)\n",
    "\n",
    "false_positive_rate, true_positive_rate, thresholds = roc_curve(y_test.values,arbol.predict(data))\n",
    "roc_auc7 = auc(false_positive_rate, true_positive_rate)\n",
    "plt.plot(false_positive_rate, true_positive_rate, label='DT = %0.2f'% roc_auc7)\n",
    "\n",
    "plt.legend(loc='lower right')\n",
    "plt.plot([0,1],[0,1],'r--')\n",
    "plt.xlim([-0.1,1.2])\n",
    "plt.ylim([-0.1,1.2])\n",
    "plt.ylabel('True Positive Rate')\n",
    "plt.xlabel('False Positive Rate')\n",
    "plt.show()"
   ]
  },
  {
   "cell_type": "code",
   "execution_count": null,
   "metadata": {},
   "outputs": [],
   "source": []
  },
  {
   "cell_type": "code",
   "execution_count": null,
   "metadata": {},
   "outputs": [],
   "source": []
  },
  {
   "cell_type": "code",
   "execution_count": null,
   "metadata": {},
   "outputs": [],
   "source": []
  }
 ],
 "metadata": {
  "kernelspec": {
   "display_name": "Python 3",
   "language": "python",
   "name": "python3"
  },
  "language_info": {
   "codemirror_mode": {
    "name": "ipython",
    "version": 3
   },
   "file_extension": ".py",
   "mimetype": "text/x-python",
   "name": "python",
   "nbconvert_exporter": "python",
   "pygments_lexer": "ipython3",
   "version": "3.6.6"
  }
 },
 "nbformat": 4,
 "nbformat_minor": 2
}
